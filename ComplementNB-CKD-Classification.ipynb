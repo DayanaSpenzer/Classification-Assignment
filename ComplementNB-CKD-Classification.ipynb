{
 "cells": [
  {
   "cell_type": "code",
   "execution_count": 1,
   "id": "6629238b-7a1f-4c74-bdad-f161c17a81fc",
   "metadata": {},
   "outputs": [],
   "source": [
    "import pandas as pd\n",
    "import numpy as np\n",
    "import matplotlib.pyplot as plt"
   ]
  },
  {
   "cell_type": "code",
   "execution_count": 2,
   "id": "367a31bb-731e-41f2-8ad6-5a4f2d86fd2a",
   "metadata": {},
   "outputs": [
    {
     "data": {
      "text/plain": [
       "(399, 28)"
      ]
     },
     "execution_count": 2,
     "metadata": {},
     "output_type": "execute_result"
    }
   ],
   "source": [
    "dataset=pd.read_csv(\"CKD.csv\")\n",
    "dataset=pd.get_dummies(dataset,dtype=int,drop_first=True)\n",
    "dataset.shape"
   ]
  },
  {
   "cell_type": "code",
   "execution_count": 3,
   "id": "41daec0a-7ff7-486e-866a-b9eb19540cfd",
   "metadata": {},
   "outputs": [
    {
     "data": {
      "text/plain": [
       "classification_yes\n",
       "1                     249\n",
       "0                     150\n",
       "Name: count, dtype: int64"
      ]
     },
     "execution_count": 3,
     "metadata": {},
     "output_type": "execute_result"
    }
   ],
   "source": [
    "dataset[[\"classification_yes\"]].value_counts()"
   ]
  },
  {
   "cell_type": "code",
   "execution_count": 4,
   "id": "b6263e70-a8e3-4ff0-8530-0bea96b5256a",
   "metadata": {},
   "outputs": [],
   "source": [
    "independent=dataset[['age','bp','al','su','bgr','bu','sc','sod','pot','hrmo','pcv','wc','rc','sg_b','sg_c','sg_d','sg_e','rbc_normal','pc_normal','pcc_present','ba_present','htn_yes','dm_yes','cad_yes','appet_yes','pe_yes','ane_yes']]\n",
    "dependent=dataset[['classification_yes']]"
   ]
  },
  {
   "cell_type": "code",
   "execution_count": 5,
   "id": "a208a0b3-0578-4b91-8900-dced5722278d",
   "metadata": {},
   "outputs": [],
   "source": [
    "from sklearn.model_selection import train_test_split\n",
    "x_train,x_test,y_train,y_test=train_test_split(independent,dependent,test_size=0.30,random_state=0)"
   ]
  },
  {
   "cell_type": "code",
   "execution_count": 6,
   "id": "6bf58571-5aca-4eca-8631-09dd5bb1662b",
   "metadata": {},
   "outputs": [],
   "source": [
    "from sklearn.preprocessing import MinMaxScaler\n",
    "mmc=MinMaxScaler()\n",
    "x_train=mmc.fit_transform(x_train)\n",
    "x_test=mmc.transform(x_test)"
   ]
  },
  {
   "cell_type": "code",
   "execution_count": 7,
   "id": "dabe856c-d5a6-4c26-931b-62a2bec06b73",
   "metadata": {},
   "outputs": [
    {
     "name": "stdout",
     "output_type": "stream",
     "text": [
      "The Classification Report is:/n               precision    recall  f1-score   support\n",
      "\n",
      "           0       0.96      1.00      0.98        45\n",
      "           1       1.00      0.97      0.99        75\n",
      "\n",
      "    accuracy                           0.98       120\n",
      "   macro avg       0.98      0.99      0.98       120\n",
      "weighted avg       0.98      0.98      0.98       120\n",
      "\n",
      "The Confusion Matrix is:/n [[45  0]\n",
      " [ 2 73]]\n"
     ]
    }
   ],
   "source": [
    "from sklearn.preprocessing import MinMaxScaler\n",
    "mmc=MinMaxScaler()\n",
    "x_train=mmc.fit_transform(x_train)\n",
    "x_test=mmc.transform(x_test)\n",
    "from sklearn.naive_bayes import ComplementNB\n",
    "classifier=ComplementNB()\n",
    "classifier.fit(x_train,y_train.values.ravel())\n",
    "y_pred=classifier.predict(x_test)\n",
    "from sklearn.metrics import confusion_matrix\n",
    "cm=confusion_matrix(y_test,y_pred)\n",
    "from sklearn.metrics import classification_report\n",
    "clf_report=classification_report(y_test,y_pred)\n",
    "print(\"The Classification Report is:/n\",clf_report)\n",
    "print(\"The Confusion Matrix is:/n\",cm)"
   ]
  },
  {
   "cell_type": "code",
   "execution_count": 9,
   "id": "cf089c3c-1404-4aa4-afbb-490c53815a96",
   "metadata": {},
   "outputs": [],
   "source": [
    "filename=\"CKD_NB_MODEL.sav\"\n",
    "import pickle\n",
    "pickle.dump(classifier,open(filename,'wb'))"
   ]
  },
  {
   "cell_type": "code",
   "execution_count": 10,
   "id": "3f9056cf-7b82-4fac-839c-0896af06da04",
   "metadata": {},
   "outputs": [
    {
     "name": "stdin",
     "output_type": "stream",
     "text": [
      "Enter the Age: 32\n",
      "Enter the BP: 90\n",
      "Enter the al value: 1\n",
      "Enter the su value: 0\n",
      "Enter the bgr value: 148.11267605633802\n",
      "Enter the bu value: 223\n",
      "Enter the sc value: 18.1\n",
      "Enter the sod value: 113\n",
      "Enter the pot value: 6.5\n",
      "Enter the hrmo value: 5.5\n",
      "Enter the pcv value: 12\n",
      "Enter the wc value: 2600\n",
      "Enter the rc value: 2.8\n",
      "Enter the sg_b value: 1\n",
      "Enter the sg_c value: 0\n",
      "Enter the sg_d value: 0\n",
      "Enter the sg_e value: 0\n",
      "Enter the rbc value: 0\n",
      "Enter the pc value: 0\n",
      "Enter the pccc value: 0\n",
      "Enter the ba value: 0\n",
      "Enter the htn value: 1\n",
      "Enter the dm value: 1\n",
      "Enter the cad value: 0\n",
      "Enter the appet value: 0\n",
      "Enter the pe value: 1\n",
      "Enter the ane value: 1\n"
     ]
    }
   ],
   "source": [
    "iage=int(input(\"Enter the Age:\"))\n",
    "ibp=float(input(\"Enter the BP:\"))\n",
    "ial=float(input(\"Enter the al value:\"))\n",
    "isu=float(input(\"Enter the su value:\"))\n",
    "ibgr=float(input(\"Enter the bgr value:\"))\n",
    "ibu=float(input(\"Enter the bu value:\"))\n",
    "isc=float(input(\"Enter the sc value:\"))\n",
    "isod=float(input(\"Enter the sod value:\"))\n",
    "ipot=float(input(\"Enter the pot value:\"))\n",
    "ihrmo=float(input(\"Enter the hrmo value:\"))\n",
    "ipcv=float(input(\"Enter the pcv value:\"))\n",
    "iwc=float(input(\"Enter the wc value:\"))\n",
    "irc=float(input(\"Enter the rc value:\"))\n",
    "isg_b=float(input(\"Enter the sg_b value:\"))\n",
    "isg_c=float(input(\"Enter the sg_c value:\"))\n",
    "isg_d=float(input(\"Enter the sg_d value:\"))\n",
    "isg_e=float(input(\"Enter the sg_e value:\"))\n",
    "irbc_normal=int(input(\"Enter the rbc value:\"))\n",
    "ipc_normal=int(input(\"Enter the pc value:\"))\n",
    "ipcc_present=int(input(\"Enter the pccc value:\"))\n",
    "iba_present=int(input(\"Enter the ba value:\"))\n",
    "ihtn_yes=int(input(\"Enter the htn value:\"))\n",
    "idm_yes=int(input(\"Enter the dm value:\"))\n",
    "icad_yes=int(input(\"Enter the cad value:\"))\n",
    "iappet_yes=int(input(\"Enter the appet value:\"))\n",
    "ipe_yes=int(input(\"Enter the pe value:\"))\n",
    "iane_yes=int(input(\"Enter the ane value:\"))"
   ]
  },
  {
   "cell_type": "code",
   "execution_count": 12,
   "id": "12866823-5cdb-461e-9def-4c72574a32b6",
   "metadata": {},
   "outputs": [
    {
     "name": "stdout",
     "output_type": "stream",
     "text": [
      "The Future prediction is: [1]\n"
     ]
    }
   ],
   "source": [
    "Future_Prediction=classifier.predict([[iage,ibp,ial,isu,ibgr,ibu,isc,isod,ipot,ihrmo,ipcv,iwc,irc,isg_b,isg_c,isg_d,isg_e,irbc_normal,ipc_normal,ipcc_present,iba_present,ihtn_yes,idm_yes,icad_yes,iappet_yes,ipe_yes,iane_yes]])\n",
    "print(\"The Future prediction is:\", Future_Prediction)"
   ]
  },
  {
   "cell_type": "code",
   "execution_count": null,
   "id": "c0338da9-d2e9-4d3a-bc95-3dd219f34ab9",
   "metadata": {},
   "outputs": [],
   "source": []
  }
 ],
 "metadata": {
  "kernelspec": {
   "display_name": "Python [conda env:base] *",
   "language": "python",
   "name": "conda-base-py"
  },
  "language_info": {
   "codemirror_mode": {
    "name": "ipython",
    "version": 3
   },
   "file_extension": ".py",
   "mimetype": "text/x-python",
   "name": "python",
   "nbconvert_exporter": "python",
   "pygments_lexer": "ipython3",
   "version": "3.13.5"
  }
 },
 "nbformat": 4,
 "nbformat_minor": 5
}
