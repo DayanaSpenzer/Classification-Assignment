{
 "cells": [
  {
   "cell_type": "code",
   "execution_count": 25,
   "id": "5fab2c7e-28b2-4869-9cea-281e4e9864dd",
   "metadata": {},
   "outputs": [],
   "source": [
    "import pandas as pd\n",
    "import numpy as np\n",
    "import matplotlib.pyplot"
   ]
  },
  {
   "cell_type": "code",
   "execution_count": 26,
   "id": "c100fe95-2dc9-4115-a6c0-c7ba99b1a7dc",
   "metadata": {},
   "outputs": [
    {
     "data": {
      "text/html": [
       "<div>\n",
       "<style scoped>\n",
       "    .dataframe tbody tr th:only-of-type {\n",
       "        vertical-align: middle;\n",
       "    }\n",
       "\n",
       "    .dataframe tbody tr th {\n",
       "        vertical-align: top;\n",
       "    }\n",
       "\n",
       "    .dataframe thead th {\n",
       "        text-align: right;\n",
       "    }\n",
       "</style>\n",
       "<table border=\"1\" class=\"dataframe\">\n",
       "  <thead>\n",
       "    <tr style=\"text-align: right;\">\n",
       "      <th></th>\n",
       "      <th>age</th>\n",
       "      <th>bp</th>\n",
       "      <th>al</th>\n",
       "      <th>su</th>\n",
       "      <th>bgr</th>\n",
       "      <th>bu</th>\n",
       "      <th>sc</th>\n",
       "      <th>sod</th>\n",
       "      <th>pot</th>\n",
       "      <th>hrmo</th>\n",
       "      <th>...</th>\n",
       "      <th>pc_normal</th>\n",
       "      <th>pcc_present</th>\n",
       "      <th>ba_present</th>\n",
       "      <th>htn_yes</th>\n",
       "      <th>dm_yes</th>\n",
       "      <th>cad_yes</th>\n",
       "      <th>appet_yes</th>\n",
       "      <th>pe_yes</th>\n",
       "      <th>ane_yes</th>\n",
       "      <th>classification_yes</th>\n",
       "    </tr>\n",
       "  </thead>\n",
       "  <tbody>\n",
       "    <tr>\n",
       "      <th>0</th>\n",
       "      <td>2.0</td>\n",
       "      <td>76.459948</td>\n",
       "      <td>3.0</td>\n",
       "      <td>0.0</td>\n",
       "      <td>148.112676</td>\n",
       "      <td>57.482105</td>\n",
       "      <td>3.077356</td>\n",
       "      <td>137.528754</td>\n",
       "      <td>4.627244</td>\n",
       "      <td>12.518156</td>\n",
       "      <td>...</td>\n",
       "      <td>0</td>\n",
       "      <td>0</td>\n",
       "      <td>0</td>\n",
       "      <td>0</td>\n",
       "      <td>0</td>\n",
       "      <td>0</td>\n",
       "      <td>1</td>\n",
       "      <td>1</td>\n",
       "      <td>0</td>\n",
       "      <td>1</td>\n",
       "    </tr>\n",
       "    <tr>\n",
       "      <th>1</th>\n",
       "      <td>3.0</td>\n",
       "      <td>76.459948</td>\n",
       "      <td>2.0</td>\n",
       "      <td>0.0</td>\n",
       "      <td>148.112676</td>\n",
       "      <td>22.000000</td>\n",
       "      <td>0.700000</td>\n",
       "      <td>137.528754</td>\n",
       "      <td>4.627244</td>\n",
       "      <td>10.700000</td>\n",
       "      <td>...</td>\n",
       "      <td>1</td>\n",
       "      <td>0</td>\n",
       "      <td>0</td>\n",
       "      <td>0</td>\n",
       "      <td>0</td>\n",
       "      <td>0</td>\n",
       "      <td>1</td>\n",
       "      <td>0</td>\n",
       "      <td>0</td>\n",
       "      <td>1</td>\n",
       "    </tr>\n",
       "    <tr>\n",
       "      <th>2</th>\n",
       "      <td>4.0</td>\n",
       "      <td>76.459948</td>\n",
       "      <td>1.0</td>\n",
       "      <td>0.0</td>\n",
       "      <td>99.000000</td>\n",
       "      <td>23.000000</td>\n",
       "      <td>0.600000</td>\n",
       "      <td>138.000000</td>\n",
       "      <td>4.400000</td>\n",
       "      <td>12.000000</td>\n",
       "      <td>...</td>\n",
       "      <td>1</td>\n",
       "      <td>0</td>\n",
       "      <td>0</td>\n",
       "      <td>0</td>\n",
       "      <td>0</td>\n",
       "      <td>0</td>\n",
       "      <td>1</td>\n",
       "      <td>0</td>\n",
       "      <td>0</td>\n",
       "      <td>1</td>\n",
       "    </tr>\n",
       "    <tr>\n",
       "      <th>3</th>\n",
       "      <td>5.0</td>\n",
       "      <td>76.459948</td>\n",
       "      <td>1.0</td>\n",
       "      <td>0.0</td>\n",
       "      <td>148.112676</td>\n",
       "      <td>16.000000</td>\n",
       "      <td>0.700000</td>\n",
       "      <td>138.000000</td>\n",
       "      <td>3.200000</td>\n",
       "      <td>8.100000</td>\n",
       "      <td>...</td>\n",
       "      <td>1</td>\n",
       "      <td>0</td>\n",
       "      <td>0</td>\n",
       "      <td>0</td>\n",
       "      <td>0</td>\n",
       "      <td>0</td>\n",
       "      <td>1</td>\n",
       "      <td>0</td>\n",
       "      <td>1</td>\n",
       "      <td>1</td>\n",
       "    </tr>\n",
       "    <tr>\n",
       "      <th>4</th>\n",
       "      <td>5.0</td>\n",
       "      <td>50.000000</td>\n",
       "      <td>0.0</td>\n",
       "      <td>0.0</td>\n",
       "      <td>148.112676</td>\n",
       "      <td>25.000000</td>\n",
       "      <td>0.600000</td>\n",
       "      <td>137.528754</td>\n",
       "      <td>4.627244</td>\n",
       "      <td>11.800000</td>\n",
       "      <td>...</td>\n",
       "      <td>1</td>\n",
       "      <td>0</td>\n",
       "      <td>0</td>\n",
       "      <td>0</td>\n",
       "      <td>0</td>\n",
       "      <td>0</td>\n",
       "      <td>1</td>\n",
       "      <td>0</td>\n",
       "      <td>0</td>\n",
       "      <td>1</td>\n",
       "    </tr>\n",
       "  </tbody>\n",
       "</table>\n",
       "<p>5 rows × 28 columns</p>\n",
       "</div>"
      ],
      "text/plain": [
       "   age         bp   al   su         bgr         bu        sc         sod  \\\n",
       "0  2.0  76.459948  3.0  0.0  148.112676  57.482105  3.077356  137.528754   \n",
       "1  3.0  76.459948  2.0  0.0  148.112676  22.000000  0.700000  137.528754   \n",
       "2  4.0  76.459948  1.0  0.0   99.000000  23.000000  0.600000  138.000000   \n",
       "3  5.0  76.459948  1.0  0.0  148.112676  16.000000  0.700000  138.000000   \n",
       "4  5.0  50.000000  0.0  0.0  148.112676  25.000000  0.600000  137.528754   \n",
       "\n",
       "        pot       hrmo  ...  pc_normal  pcc_present  ba_present  htn_yes  \\\n",
       "0  4.627244  12.518156  ...          0            0           0        0   \n",
       "1  4.627244  10.700000  ...          1            0           0        0   \n",
       "2  4.400000  12.000000  ...          1            0           0        0   \n",
       "3  3.200000   8.100000  ...          1            0           0        0   \n",
       "4  4.627244  11.800000  ...          1            0           0        0   \n",
       "\n",
       "   dm_yes  cad_yes  appet_yes  pe_yes  ane_yes  classification_yes  \n",
       "0       0        0          1       1        0                   1  \n",
       "1       0        0          1       0        0                   1  \n",
       "2       0        0          1       0        0                   1  \n",
       "3       0        0          1       0        1                   1  \n",
       "4       0        0          1       0        0                   1  \n",
       "\n",
       "[5 rows x 28 columns]"
      ]
     },
     "execution_count": 26,
     "metadata": {},
     "output_type": "execute_result"
    }
   ],
   "source": [
    "dataset=pd.read_csv(\"CKD.csv\")\n",
    "dataset=pd.get_dummies(dataset,dtype=int,drop_first=True)\n",
    "dataset.head()\n",
    "#dataset.shape"
   ]
  },
  {
   "cell_type": "code",
   "execution_count": 27,
   "id": "0d9a3bf5-d242-4ddd-a1fb-beb1434ebd28",
   "metadata": {},
   "outputs": [
    {
     "data": {
      "text/plain": [
       "classification_yes\n",
       "1                     249\n",
       "0                     150\n",
       "Name: count, dtype: int64"
      ]
     },
     "execution_count": 27,
     "metadata": {},
     "output_type": "execute_result"
    }
   ],
   "source": [
    "dataset[['classification_yes']].value_counts()"
   ]
  },
  {
   "cell_type": "code",
   "execution_count": 28,
   "id": "cf396052-9375-40fa-ae09-5d0970a7a695",
   "metadata": {},
   "outputs": [],
   "source": [
    "independent=dataset[['age','bp','al','su','bgr','bu','sc','sod','pot','hrmo','pcv','wc','rc','sg_b','sg_c','sg_d','sg_e','rbc_normal','pc_normal','pcc_present','ba_present','htn_yes','dm_yes','cad_yes','appet_yes','pe_yes','ane_yes']]\n",
    "dependent=dataset[['classification_yes']]"
   ]
  },
  {
   "cell_type": "code",
   "execution_count": 29,
   "id": "91a2d99e-e84c-4de5-9b78-4d1eb43ee10c",
   "metadata": {},
   "outputs": [],
   "source": [
    "from sklearn.model_selection import train_test_split\n",
    "x_train,x_test,y_train,y_test=train_test_split(independent,dependent,test_size=0.30,random_state=0)"
   ]
  },
  {
   "cell_type": "code",
   "execution_count": 30,
   "id": "86c8946a-1bc2-4302-bc19-1a59c897a285",
   "metadata": {},
   "outputs": [],
   "source": [
    "from sklearn.preprocessing import StandardScaler\n",
    "sc=StandardScaler()\n",
    "x_train=sc.fit_transform(x_train)\n",
    "x_test=sc.transform(x_test)"
   ]
  },
  {
   "cell_type": "code",
   "execution_count": 31,
   "id": "2bbc1b97-8174-49e8-9a55-f895379c62cb",
   "metadata": {},
   "outputs": [
    {
     "name": "stderr",
     "output_type": "stream",
     "text": [
      "C:\\Users\\Dayana\\anaconda3\\Lib\\site-packages\\sklearn\\neighbors\\_classification.py:239: DataConversionWarning: A column-vector y was passed when a 1d array was expected. Please change the shape of y to (n_samples,), for example using ravel().\n",
      "  return self._fit(X, y)\n"
     ]
    }
   ],
   "source": [
    "from sklearn.neighbors import KNeighborsClassifier\n",
    "classifier=KNeighborsClassifier(n_neighbors=7,metric='minkowski',p=2)\n",
    "classifier.fit(x_train,y_train)\n",
    "y_pred=classifier.predict(x_test)"
   ]
  },
  {
   "cell_type": "code",
   "execution_count": 32,
   "id": "046e2e1e-0da7-409c-917c-a57e7bdba45b",
   "metadata": {},
   "outputs": [
    {
     "name": "stdout",
     "output_type": "stream",
     "text": [
      "The confusion matrix is: \n",
      " [[45  0]\n",
      " [ 6 69]]\n"
     ]
    }
   ],
   "source": [
    "from sklearn.metrics import confusion_matrix\n",
    "cm=confusion_matrix(y_test,y_pred)\n",
    "print(\"The confusion matrix is: \\n\",cm)"
   ]
  },
  {
   "cell_type": "code",
   "execution_count": 33,
   "id": "c3c94bae-610c-415c-9907-dd5db798a4d5",
   "metadata": {},
   "outputs": [
    {
     "name": "stdout",
     "output_type": "stream",
     "text": [
      "The classification report is: \n",
      "               precision    recall  f1-score   support\n",
      "\n",
      "           0       0.88      1.00      0.94        45\n",
      "           1       1.00      0.92      0.96        75\n",
      "\n",
      "    accuracy                           0.95       120\n",
      "   macro avg       0.94      0.96      0.95       120\n",
      "weighted avg       0.96      0.95      0.95       120\n",
      "\n"
     ]
    }
   ],
   "source": [
    "from sklearn.metrics import classification_report\n",
    "clf_report=classification_report(y_test,y_pred)\n",
    "print(\"The classification report is: \\n\",clf_report)"
   ]
  },
  {
   "cell_type": "code",
   "execution_count": 34,
   "id": "53d82ef1-2e33-41e9-a730-7ceb79a56754",
   "metadata": {},
   "outputs": [
    {
     "data": {
      "text/plain": [
       "np.float64(0.9997037037037038)"
      ]
     },
     "execution_count": 34,
     "metadata": {},
     "output_type": "execute_result"
    }
   ],
   "source": [
    "from sklearn.metrics import roc_auc_score\n",
    "roc_auc_score(y_test,classifier.predict_proba(x_test)[:,1])"
   ]
  },
  {
   "cell_type": "code",
   "execution_count": 35,
   "id": "1d6669f2-747f-4351-80d8-bd990a5d6d2b",
   "metadata": {},
   "outputs": [
    {
     "name": "stdout",
     "output_type": "stream",
     "text": [
      "The f1_macro value is:\n",
      " 0.9505208333333334\n"
     ]
    }
   ],
   "source": [
    "from sklearn.metrics import f1_score\n",
    "f1_macro=f1_score(y_test,y_pred,average='weighted')\n",
    "print(\"The f1_macro value is:\\n\",f1_macro)"
   ]
  },
  {
   "cell_type": "code",
   "execution_count": 36,
   "id": "069387ed-bf28-421d-b276-366d6dc72090",
   "metadata": {},
   "outputs": [
    {
     "name": "stdin",
     "output_type": "stream",
     "text": [
      "Enter the Age: 37\n",
      "Enter the BP: 60\n",
      "Enter the al value: 0\n",
      "Enter the su value: 0\n",
      "Enter the bgr value: 111\n",
      "Enter the bu value: 35\n",
      "Enter the sc value: 0.8\n",
      "Enter the sod value: 135\n",
      "Enter the pot value: 4.1\n",
      "Enter the hrmo value: 16.2\n",
      "Enter the pcv value: 50\n",
      "Enter the wc value: 5500\n",
      "Enter the rc value: 5.7\n",
      "Enter the sg_b value: 0\n",
      "Enter the sg_c value: 0\n",
      "Enter the sg_d value: 0\n",
      "Enter the sg_e value: 0\n",
      "Enter the rbc value: 1\n",
      "Enter the pc value: 1\n",
      "Enter the pccc value: 0\n",
      "Enter the ba value: 0\n",
      "Enter the htn value: 0\n",
      "Enter the dm value: 0\n",
      "Enter the cad value: 0\n",
      "Enter the appet value: 1\n",
      "Enter the pe value: 0\n",
      "Enter the ane value: 0\n"
     ]
    }
   ],
   "source": [
    "iage=int(input(\"Enter the Age:\"))\n",
    "ibp=float(input(\"Enter the BP:\"))\n",
    "ial=float(input(\"Enter the al value:\"))\n",
    "isu=float(input(\"Enter the su value:\"))\n",
    "ibgr=float(input(\"Enter the bgr value:\"))\n",
    "ibu=float(input(\"Enter the bu value:\"))\n",
    "isc=float(input(\"Enter the sc value:\"))\n",
    "isod=float(input(\"Enter the sod value:\"))\n",
    "ipot=float(input(\"Enter the pot value:\"))\n",
    "ihrmo=float(input(\"Enter the hrmo value:\"))\n",
    "ipcv=float(input(\"Enter the pcv value:\"))\n",
    "iwc=float(input(\"Enter the wc value:\"))\n",
    "irc=float(input(\"Enter the rc value:\"))\n",
    "isg_b=float(input(\"Enter the sg_b value:\"))\n",
    "isg_c=float(input(\"Enter the sg_c value:\"))\n",
    "isg_d=float(input(\"Enter the sg_d value:\"))\n",
    "isg_e=float(input(\"Enter the sg_e value:\"))\n",
    "irbc_normal=int(input(\"Enter the rbc value:\"))\n",
    "ipc_normal=int(input(\"Enter the pc value:\"))\n",
    "ipcc_present=int(input(\"Enter the pccc value:\"))\n",
    "iba_present=int(input(\"Enter the ba value:\"))\n",
    "ihtn_yes=int(input(\"Enter the htn value:\"))\n",
    "idm_yes=int(input(\"Enter the dm value:\"))\n",
    "icad_yes=int(input(\"Enter the cad value:\"))\n",
    "iappet_yes=int(input(\"Enter the appet value:\"))\n",
    "ipe_yes=int(input(\"Enter the pe value:\"))\n",
    "iane_yes=int(input(\"Enter the ane value:\"))"
   ]
  },
  {
   "cell_type": "code",
   "execution_count": 37,
   "id": "82b712f4-904b-46ca-92ff-53dbb6bac66b",
   "metadata": {},
   "outputs": [
    {
     "name": "stdout",
     "output_type": "stream",
     "text": [
      "The Future prediction is: [1]\n"
     ]
    }
   ],
   "source": [
    "Future_Prediction=classifier.predict([[iage,ibp,ial,isu,ibgr,ibu,isc,isod,ipot,ihrmo,ipcv,iwc,irc,isg_b,isg_c,isg_d,isg_e,irbc_normal,ipc_normal,ipcc_present,iba_present,ihtn_yes,idm_yes,icad_yes,iappet_yes,ipe_yes,iane_yes]])\n",
    "print(\"The Future prediction is:\", Future_Prediction)"
   ]
  },
  {
   "cell_type": "code",
   "execution_count": null,
   "id": "36119e72-6986-4ca9-b5da-67f1dbbbcf44",
   "metadata": {},
   "outputs": [],
   "source": []
  }
 ],
 "metadata": {
  "kernelspec": {
   "display_name": "Python [conda env:base] *",
   "language": "python",
   "name": "conda-base-py"
  },
  "language_info": {
   "codemirror_mode": {
    "name": "ipython",
    "version": 3
   },
   "file_extension": ".py",
   "mimetype": "text/x-python",
   "name": "python",
   "nbconvert_exporter": "python",
   "pygments_lexer": "ipython3",
   "version": "3.13.5"
  }
 },
 "nbformat": 4,
 "nbformat_minor": 5
}
